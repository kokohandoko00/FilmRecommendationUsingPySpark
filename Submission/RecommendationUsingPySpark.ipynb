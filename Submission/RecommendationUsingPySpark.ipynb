{
 "cells": [
  {
   "cell_type": "code",
   "execution_count": 1,
   "metadata": {},
   "outputs": [
    {
     "data": {
      "text/plain": [
       "'E:\\\\apps\\\\spark-3.3.0-bin-hadoop3'"
      ]
     },
     "execution_count": 1,
     "metadata": {},
     "output_type": "execute_result"
    }
   ],
   "source": [
    "import findspark\n",
    "findspark.init()\n",
    "findspark.find()"
   ]
  },
  {
   "cell_type": "code",
   "execution_count": 2,
   "metadata": {},
   "outputs": [],
   "source": [
    "from pyspark.sql.functions import col, explode\n",
    "from pyspark.sql import SparkSession"
   ]
  },
  {
   "cell_type": "markdown",
   "metadata": {},
   "source": [
    "Projek ini bertujuan untuk mempelajari konsep penggunaan salah satu aplikasi pengelola Big Data. Aplikasi yang dipilih adalah PySpark. Dalam projek ini, use-case yang dipilih adalah menerapkan konsep sistem rekomendasi. Sistem rekomendasi merupakan sistem yang digunakan untuk memprediksi jenis produk yang kemungkinan disukai oleh pengguna. Produk-produk tersebutlah yang akan direkomendasikan ke pengguna."
   ]
  },
  {
   "cell_type": "markdown",
   "metadata": {},
   "source": [
    "Sebagai contoh, Youtube yang mampu memberikan rekomendasi video kepada pengguna berdasarkan video yang pernah ditonton sebelumnya dan Spotify yang mampu memberikan rekomendasi lagu berdasarkan genre ataupun jenis lagu yang didengarkan pengguna."
   ]
  },
  {
   "cell_type": "markdown",
   "metadata": {},
   "source": [
    "## Memulai sesi Spark baru"
   ]
  },
  {
   "cell_type": "code",
   "execution_count": 3,
   "metadata": {},
   "outputs": [],
   "source": [
    "spark = SparkSession.builder.appName('Recommendation').getOrCreate()"
   ]
  },
  {
   "cell_type": "markdown",
   "metadata": {},
   "source": [
    "## Load Data .csv into spark"
   ]
  },
  {
   "cell_type": "code",
   "execution_count": 4,
   "metadata": {},
   "outputs": [],
   "source": [
    "movies = spark.read.csv(\"file:///E:/tugas_koko/Semester_7/Big_Data_and_Analytics/Tugas/Tugas_UTS/als-recommender-pyspark/movies.csv\",header=True)\n",
    "ratings = spark.read.csv(\"file:///E:/tugas_koko/Semester_7/Big_Data_and_Analytics/Tugas/Tugas_UTS/als-recommender-pyspark/ratings.csv\",header=True)"
   ]
  },
  {
   "cell_type": "markdown",
   "metadata": {},
   "source": [
    "## Eksplorasi Data"
   ]
  },
  {
   "cell_type": "markdown",
   "metadata": {},
   "source": [
    "#### Data Movies memiliki 3 kolom, yaitu movieID, title, dan Genres"
   ]
  },
  {
   "cell_type": "code",
   "execution_count": 5,
   "metadata": {},
   "outputs": [
    {
     "name": "stdout",
     "output_type": "stream",
     "text": [
      "+-------+--------------------+--------------------+\n",
      "|movieId|               title|              genres|\n",
      "+-------+--------------------+--------------------+\n",
      "|      1|    Toy Story (1995)|Adventure|Animati...|\n",
      "|      2|      Jumanji (1995)|Adventure|Childre...|\n",
      "|      3|Grumpier Old Men ...|      Comedy|Romance|\n",
      "|      4|Waiting to Exhale...|Comedy|Drama|Romance|\n",
      "|      5|Father of the Bri...|              Comedy|\n",
      "|      6|         Heat (1995)|Action|Crime|Thri...|\n",
      "|      7|      Sabrina (1995)|      Comedy|Romance|\n",
      "|      8| Tom and Huck (1995)|  Adventure|Children|\n",
      "|      9| Sudden Death (1995)|              Action|\n",
      "|     10|    GoldenEye (1995)|Action|Adventure|...|\n",
      "+-------+--------------------+--------------------+\n",
      "only showing top 10 rows\n",
      "\n"
     ]
    }
   ],
   "source": [
    "movies.show(10)"
   ]
  },
  {
   "cell_type": "markdown",
   "metadata": {},
   "source": [
    "#### Jumlah baris yang terdapat pada dataset movies"
   ]
  },
  {
   "cell_type": "code",
   "execution_count": 6,
   "metadata": {},
   "outputs": [
    {
     "data": {
      "text/plain": [
       "9742"
      ]
     },
     "execution_count": 6,
     "metadata": {},
     "output_type": "execute_result"
    }
   ],
   "source": [
    "movies.count()"
   ]
  },
  {
   "cell_type": "markdown",
   "metadata": {},
   "source": [
    "#### Nama tiap Kolom pada Dataset Movies"
   ]
  },
  {
   "cell_type": "code",
   "execution_count": 11,
   "metadata": {},
   "outputs": [
    {
     "name": "stdout",
     "output_type": "stream",
     "text": [
      "root\n",
      " |-- movieId: string (nullable = true)\n",
      " |-- title: string (nullable = true)\n",
      " |-- genres: string (nullable = true)\n",
      "\n"
     ]
    }
   ],
   "source": [
    "movies.printSchema()"
   ]
  },
  {
   "cell_type": "markdown",
   "metadata": {},
   "source": [
    "#### Dataset ratings memiliki 4 kolom, yaitu userId, movieId, rating, timestamp"
   ]
  },
  {
   "cell_type": "code",
   "execution_count": 12,
   "metadata": {},
   "outputs": [
    {
     "name": "stdout",
     "output_type": "stream",
     "text": [
      "+------+-------+------+---------+\n",
      "|userId|movieId|rating|timestamp|\n",
      "+------+-------+------+---------+\n",
      "|     1|      1|   4.0|964982703|\n",
      "|     1|      3|   4.0|964981247|\n",
      "|     1|      6|   4.0|964982224|\n",
      "|     1|     47|   5.0|964983815|\n",
      "|     1|     50|   5.0|964982931|\n",
      "|     1|     70|   3.0|964982400|\n",
      "|     1|    101|   5.0|964980868|\n",
      "|     1|    110|   4.0|964982176|\n",
      "|     1|    151|   5.0|964984041|\n",
      "|     1|    157|   5.0|964984100|\n",
      "+------+-------+------+---------+\n",
      "only showing top 10 rows\n",
      "\n"
     ]
    }
   ],
   "source": [
    "ratings.show(10)"
   ]
  },
  {
   "cell_type": "markdown",
   "metadata": {},
   "source": [
    "#### Jumlah baris yang terdapat pada Dataset ratings"
   ]
  },
  {
   "cell_type": "code",
   "execution_count": 13,
   "metadata": {},
   "outputs": [
    {
     "data": {
      "text/plain": [
       "100836"
      ]
     },
     "execution_count": 13,
     "metadata": {},
     "output_type": "execute_result"
    }
   ],
   "source": [
    "ratings.count()"
   ]
  },
  {
   "cell_type": "markdown",
   "metadata": {},
   "source": [
    "#### Nama tiap Kolom pada Dataset ratings"
   ]
  },
  {
   "cell_type": "code",
   "execution_count": 14,
   "metadata": {},
   "outputs": [
    {
     "name": "stdout",
     "output_type": "stream",
     "text": [
      "root\n",
      " |-- userId: string (nullable = true)\n",
      " |-- movieId: string (nullable = true)\n",
      " |-- rating: string (nullable = true)\n",
      " |-- timestamp: string (nullable = true)\n",
      "\n"
     ]
    }
   ],
   "source": [
    "ratings.printSchema()"
   ]
  },
  {
   "cell_type": "markdown",
   "metadata": {},
   "source": [
    "#### Menghilangkan kolom timestamp. Kolom ini didrop karena tidak terlalu digunakan dalam sistem rekomendasi"
   ]
  },
  {
   "cell_type": "code",
   "execution_count": 15,
   "metadata": {},
   "outputs": [
    {
     "name": "stdout",
     "output_type": "stream",
     "text": [
      "+------+-------+------+\n",
      "|userId|movieId|rating|\n",
      "+------+-------+------+\n",
      "|     1|      1|   4.0|\n",
      "|     1|      3|   4.0|\n",
      "|     1|      6|   4.0|\n",
      "|     1|     47|   5.0|\n",
      "|     1|     50|   5.0|\n",
      "|     1|     70|   3.0|\n",
      "|     1|    101|   5.0|\n",
      "|     1|    110|   4.0|\n",
      "|     1|    151|   5.0|\n",
      "|     1|    157|   5.0|\n",
      "|     1|    163|   5.0|\n",
      "|     1|    216|   5.0|\n",
      "|     1|    223|   3.0|\n",
      "|     1|    231|   5.0|\n",
      "|     1|    235|   4.0|\n",
      "|     1|    260|   5.0|\n",
      "|     1|    296|   3.0|\n",
      "|     1|    316|   3.0|\n",
      "|     1|    333|   5.0|\n",
      "|     1|    349|   4.0|\n",
      "+------+-------+------+\n",
      "only showing top 20 rows\n",
      "\n"
     ]
    }
   ],
   "source": [
    "ratings = ratings.\\\n",
    "    withColumn('userId', col('userId').cast('integer')).\\\n",
    "    withColumn('movieId', col('movieId').cast('integer')).\\\n",
    "    withColumn('rating', col('rating').cast('float')).\\\n",
    "    drop('timestamp')\n",
    "\n",
    "ratings.show()"
   ]
  },
  {
   "cell_type": "markdown",
   "metadata": {},
   "source": [
    "#### Mengalkulasikan banyaknya kemunculan data berdasarkan movieId"
   ]
  },
  {
   "cell_type": "code",
   "execution_count": 16,
   "metadata": {},
   "outputs": [
    {
     "name": "stdout",
     "output_type": "stream",
     "text": [
      "+-------+-----+\n",
      "|movieId|count|\n",
      "+-------+-----+\n",
      "|    356|  329|\n",
      "|    318|  317|\n",
      "|    296|  307|\n",
      "|    593|  279|\n",
      "|   2571|  278|\n",
      "|    260|  251|\n",
      "|    480|  238|\n",
      "|    110|  237|\n",
      "|    589|  224|\n",
      "|    527|  220|\n",
      "|   2959|  218|\n",
      "|      1|  215|\n",
      "|   1196|  211|\n",
      "|   2858|  204|\n",
      "|     50|  204|\n",
      "|     47|  203|\n",
      "|    780|  202|\n",
      "|    150|  201|\n",
      "|   1198|  200|\n",
      "|   4993|  198|\n",
      "+-------+-----+\n",
      "only showing top 20 rows\n",
      "\n"
     ]
    }
   ],
   "source": [
    "movieId_ratings = ratings.groupBy(\"movieId\").count().orderBy('count', ascending=False)\n",
    "movieId_ratings.show()"
   ]
  },
  {
   "cell_type": "markdown",
   "metadata": {},
   "source": [
    "#### Mengalkulasikan banyaknya kemunculan data berdasarkan userId"
   ]
  },
  {
   "cell_type": "code",
   "execution_count": 17,
   "metadata": {
    "scrolled": true
   },
   "outputs": [
    {
     "name": "stdout",
     "output_type": "stream",
     "text": [
      "+------+-----+\n",
      "|userId|count|\n",
      "+------+-----+\n",
      "|   414| 2698|\n",
      "|   599| 2478|\n",
      "|   474| 2108|\n",
      "|   448| 1864|\n",
      "|   274| 1346|\n",
      "|   610| 1302|\n",
      "|    68| 1260|\n",
      "|   380| 1218|\n",
      "|   606| 1115|\n",
      "|   288| 1055|\n",
      "|   249| 1046|\n",
      "|   387| 1027|\n",
      "|   182|  977|\n",
      "|   307|  975|\n",
      "|   603|  943|\n",
      "|   298|  939|\n",
      "|   177|  904|\n",
      "|   318|  879|\n",
      "|   232|  862|\n",
      "|   480|  836|\n",
      "+------+-----+\n",
      "only showing top 20 rows\n",
      "\n"
     ]
    }
   ],
   "source": [
    "userId_ratings = ratings.groupBy(\"userId\").count().orderBy('count', ascending=False)\n",
    "userId_ratings.show()"
   ]
  },
  {
   "cell_type": "markdown",
   "metadata": {},
   "source": [
    "## Mengalkulasikan sparsity pada data"
   ]
  },
  {
   "cell_type": "markdown",
   "metadata": {},
   "source": [
    "Sparsity adalah kondisi ketika seorang user hanya memiliki informasi yang sedikit sehingga dapat menyebabkan sistem rekomendasi menjadi tidak terlalu akurat. Sparse data terjadi ketika value yang terdapat pada dataset banyak bernilai 0"
   ]
  },
  {
   "cell_type": "code",
   "execution_count": 18,
   "metadata": {},
   "outputs": [],
   "source": [
    "# fungsi untuk mengalkulasikan sparsity:  (1 - (Totalnonzero/total_elements))*100\n",
    "\n",
    "def calc_sparsity(ratings):\n",
    "    # menghitung jumlah data pada dataset rating\n",
    "    nonzero=ratings.select(\"rating\").count()\n",
    "    \n",
    "    # mengihtung total elemen pada userId dan movieId\n",
    "    num_user=ratings.select(\"userId\").distinct().count()\n",
    "    num_movies=ratings.select(\"movieId\").distinct().count()\n",
    "    total_element=num_user*num_movies\n",
    "    \n",
    "    #menghitung sparsity pada dataset\n",
    "    sparsity=(1.0-(nonzero)/total_element)*100\n",
    "    print(\"Dataframe rating memiliki persentase sparsity sebesar\",\"%.2f\" %sparsity)"
   ]
  },
  {
   "cell_type": "code",
   "execution_count": 19,
   "metadata": {},
   "outputs": [
    {
     "name": "stdout",
     "output_type": "stream",
     "text": [
      "Dataframe rating memiliki persentase sparsity sebesar 98.30\n"
     ]
    }
   ],
   "source": [
    "calc_sparsity(ratings)"
   ]
  },
  {
   "cell_type": "markdown",
   "metadata": {},
   "source": [
    "## Membuat model ALS"
   ]
  },
  {
   "cell_type": "markdown",
   "metadata": {},
   "source": [
    "#### Mengimport library"
   ]
  },
  {
   "cell_type": "code",
   "execution_count": 20,
   "metadata": {},
   "outputs": [],
   "source": [
    "from pyspark.ml.evaluation import RegressionEvaluator\n",
    "from pyspark.ml.recommendation import ALS\n",
    "from pyspark.ml.tuning import ParamGridBuilder, CrossValidator"
   ]
  },
  {
   "cell_type": "markdown",
   "metadata": {},
   "source": [
    "#### Memisahkan data untuk training dan testing"
   ]
  },
  {
   "cell_type": "code",
   "execution_count": 21,
   "metadata": {},
   "outputs": [],
   "source": [
    "# Membuat data untuk train dan test \n",
    "(train, test) = ratings.randomSplit([0.8, 0.2], seed = 1234)"
   ]
  },
  {
   "cell_type": "markdown",
   "metadata": {},
   "source": [
    "#### Membuat model ALS"
   ]
  },
  {
   "cell_type": "code",
   "execution_count": 22,
   "metadata": {},
   "outputs": [],
   "source": [
    "# Membuat model ALS\n",
    "als = ALS(userCol=\"userId\", itemCol=\"movieId\", ratingCol=\"rating\", nonnegative = True, implicitPrefs = False, coldStartStrategy=\"drop\")"
   ]
  },
  {
   "cell_type": "markdown",
   "metadata": {},
   "source": [
    "#### Menambahkan Hyperparameter dan Mendenisikan Evaluator"
   ]
  },
  {
   "cell_type": "code",
   "execution_count": 23,
   "metadata": {},
   "outputs": [
    {
     "name": "stdout",
     "output_type": "stream",
     "text": [
      "Jumlah model yang diuji:  16\n"
     ]
    }
   ],
   "source": [
    "# Add hyperparameters and their respective values to param_grid\n",
    "param_grid = ParamGridBuilder() \\\n",
    "            .addGrid(als.rank, [10, 50, 100, 150]) \\\n",
    "            .addGrid(als.regParam, [.01, .05, .1, .15]) \\\n",
    "            .build()\n",
    "            #             .addGrid(als.maxIter, [5, 50, 100, 200]) \\\n",
    "\n",
    "           \n",
    "# Define evaluator as RMSE and print length of evaluator\n",
    "evaluator = RegressionEvaluator(metricName=\"rmse\", labelCol=\"rating\", predictionCol=\"prediction\") #rmse dipilih karena \n",
    "print(\"Jumlah model yang diuji: \", len(param_grid))"
   ]
  },
  {
   "cell_type": "markdown",
   "metadata": {},
   "source": [
    "#### Membuat Cross Validation Pipeline"
   ]
  },
  {
   "cell_type": "code",
   "execution_count": 24,
   "metadata": {},
   "outputs": [],
   "source": [
    "cv = CrossValidator(estimator=als, estimatorParamMaps=param_grid, evaluator=evaluator, numFolds=5)"
   ]
  },
  {
   "cell_type": "markdown",
   "metadata": {},
   "source": [
    "#### Menentukan Model Terbaik"
   ]
  },
  {
   "cell_type": "code",
   "execution_count": 25,
   "metadata": {},
   "outputs": [],
   "source": [
    "#Fitting Cross validator ke dataset training\n",
    "model = cv.fit(train)\n",
    "\n",
    "#Mengekstraksi Model Terbaik\n",
    "best_model = model.bestModel"
   ]
  },
  {
   "cell_type": "code",
   "execution_count": 26,
   "metadata": {},
   "outputs": [
    {
     "name": "stdout",
     "output_type": "stream",
     "text": [
      "<class 'pyspark.ml.recommendation.ALSModel'>\n",
      "**Best Model**\n",
      "  Rank: 50\n",
      "  MaxIter: 10\n",
      "  RegParam: 0.15\n"
     ]
    }
   ],
   "source": [
    "# Print best_model\n",
    "print(type(best_model))\n",
    "\n",
    "# Complete the code below to extract the ALS model parameters\n",
    "print(\"**Best Model**\")\n",
    "\n",
    "# # Print \"Rank\"\n",
    "print(\"  Rank:\", best_model._java_obj.parent().getRank())\n",
    "\n",
    "# Print \"MaxIter\"\n",
    "print(\"  MaxIter:\", best_model._java_obj.parent().getMaxIter())\n",
    "\n",
    "# Print \"RegParam\"\n",
    "print(\"  RegParam:\", best_model._java_obj.parent().getRegParam())"
   ]
  },
  {
   "cell_type": "code",
   "execution_count": 27,
   "metadata": {},
   "outputs": [
    {
     "name": "stdout",
     "output_type": "stream",
     "text": [
      "0.8690354472727013\n"
     ]
    }
   ],
   "source": [
    "test_predictions = best_model.transform(test)\n",
    "RMSE = evaluator.evaluate(test_predictions)\n",
    "print(RMSE)"
   ]
  },
  {
   "cell_type": "code",
   "execution_count": 28,
   "metadata": {},
   "outputs": [
    {
     "name": "stdout",
     "output_type": "stream",
     "text": [
      "+------+-------+------+----------+\n",
      "|userId|movieId|rating|prediction|\n",
      "+------+-------+------+----------+\n",
      "|   580|   1580|   4.0| 3.5146918|\n",
      "|   580|  44022|   3.5| 3.3116875|\n",
      "|   597|    471|   2.0|  4.139512|\n",
      "|   108|   1959|   5.0| 3.7737808|\n",
      "|   368|   2122|   2.0| 2.0152385|\n",
      "|   436|    471|   3.0| 3.5678365|\n",
      "|   587|   1580|   4.0| 3.8583906|\n",
      "|    27|   1580|   3.0|  3.360027|\n",
      "|   606|   1580|   2.5|  3.162763|\n",
      "|   606|  44022|   4.0| 2.8372734|\n",
      "|    91|   2122|   4.0| 2.3410552|\n",
      "|   157|   3175|   2.0| 3.5833976|\n",
      "|   232|   1580|   3.5|  3.381064|\n",
      "|   232|  44022|   3.0| 3.1442473|\n",
      "|   246|   1645|   4.0| 3.7344043|\n",
      "|   599|   2366|   3.0| 2.9078147|\n",
      "|   111|   1088|   3.0| 3.3048038|\n",
      "|   111|   3175|   3.5|  3.147515|\n",
      "|    47|   1580|   1.5| 2.7201254|\n",
      "|   140|   1580|   3.0| 3.3239927|\n",
      "+------+-------+------+----------+\n",
      "only showing top 20 rows\n",
      "\n"
     ]
    }
   ],
   "source": [
    "test_predictions.show()"
   ]
  },
  {
   "cell_type": "markdown",
   "metadata": {},
   "source": [
    "#### Membuat Rekomendasi Film berdasarkan Model Terbaik"
   ]
  },
  {
   "cell_type": "code",
   "execution_count": 29,
   "metadata": {},
   "outputs": [
    {
     "name": "stdout",
     "output_type": "stream",
     "text": [
      "+------+--------------------+\n",
      "|userId|     recommendations|\n",
      "+------+--------------------+\n",
      "|     1|[{3379, 5.7612557...|\n",
      "|     3|[{5746, 4.858056}...|\n",
      "|     5|[{3379, 4.555614}...|\n",
      "|     6|[{3925, 4.827505}...|\n",
      "|    12|[{45503, 5.696589...|\n",
      "|    13|[{3379, 5.04909},...|\n",
      "|    15|[{60943, 4.460198...|\n",
      "|    16|[{3379, 4.6488113...|\n",
      "|    19|[{3379, 3.9579597...|\n",
      "|    20|[{3379, 4.9395165...|\n",
      "+------+--------------------+\n",
      "\n"
     ]
    }
   ],
   "source": [
    "nrecommendations = best_model.recommendForAllUsers(15) #method rekomendasiForAllUsers itu fungsinya gimana \n",
    "nrecommendations.limit(10).show()"
   ]
  },
  {
   "cell_type": "code",
   "execution_count": 30,
   "metadata": {},
   "outputs": [
    {
     "name": "stdout",
     "output_type": "stream",
     "text": [
      "+------+--------------------+\n",
      "|userId|     recommendations|\n",
      "+------+--------------------+\n",
      "|     1|[{3379, 5.7612557...|\n",
      "|     3|[{5746, 4.858056}...|\n",
      "|     5|[{3379, 4.555614}...|\n",
      "|     6|[{3925, 4.827505}...|\n",
      "|    12|[{45503, 5.696589...|\n",
      "|    13|[{3379, 5.04909},...|\n",
      "|    15|[{60943, 4.460198...|\n",
      "|    16|[{3379, 4.6488113...|\n",
      "|    19|[{3379, 3.9579597...|\n",
      "|    20|[{3379, 4.9395165...|\n",
      "|    22|[{68536, 3.876325...|\n",
      "|    26|[{3379, 4.5175786...|\n",
      "|    27|[{1939, 4.68301},...|\n",
      "|    28|[{60943, 4.270738...|\n",
      "|    31|[{33649, 5.225558...|\n",
      "|    34|[{33649, 4.707149...|\n",
      "|    37|[{3379, 5.352682}...|\n",
      "|    40|[{3379, 5.3208714...|\n",
      "|    41|[{116897, 4.32023...|\n",
      "|    43|[{33649, 5.640554...|\n",
      "+------+--------------------+\n",
      "only showing top 20 rows\n",
      "\n"
     ]
    }
   ],
   "source": [
    "nrecommendations.show()"
   ]
  },
  {
   "cell_type": "code",
   "execution_count": 31,
   "metadata": {},
   "outputs": [
    {
     "name": "stdout",
     "output_type": "stream",
     "text": [
      "+------+--------------------+-------------------+\n",
      "|userId|     recommendations|            rec_exp|\n",
      "+------+--------------------+-------------------+\n",
      "|     1|[{3379, 5.7612557...|  {3379, 5.7612557}|\n",
      "|     1|[{3379, 5.7612557...| {33649, 5.6169276}|\n",
      "|     1|[{3379, 5.7612557...|   {5490, 5.517828}|\n",
      "|     1|[{3379, 5.7612557...| {171495, 5.425299}|\n",
      "|     1|[{3379, 5.7612557...|  {3951, 5.4084063}|\n",
      "|     1|[{3379, 5.7612557...|  {5328, 5.4084063}|\n",
      "|     1|[{3379, 5.7612557...|  {5416, 5.4084063}|\n",
      "|     1|[{3379, 5.7612557...| {78836, 5.3639174}|\n",
      "|     1|[{3379, 5.7612557...|    {8477, 5.34965}|\n",
      "|     1|[{3379, 5.7612557...|   {5915, 5.335429}|\n",
      "|     1|[{3379, 5.7612557...|   {6460, 5.334323}|\n",
      "|     1|[{3379, 5.7612557...|{179135, 5.3292713}|\n",
      "|     1|[{3379, 5.7612557...| {84273, 5.3292713}|\n",
      "|     1|[{3379, 5.7612557...|  {7071, 5.3292713}|\n",
      "|     1|[{3379, 5.7612557...| {26073, 5.3292713}|\n",
      "|     3|[{5746, 4.858056}...|   {5746, 4.858056}|\n",
      "|     3|[{5746, 4.858056}...|   {6835, 4.858056}|\n",
      "|     3|[{5746, 4.858056}...| {70946, 4.8390865}|\n",
      "|     3|[{5746, 4.858056}...|  {5919, 4.7603607}|\n",
      "|     3|[{5746, 4.858056}...|  {5181, 4.7588973}|\n",
      "+------+--------------------+-------------------+\n",
      "only showing top 20 rows\n",
      "\n"
     ]
    }
   ],
   "source": [
    "nrecommendations = nrecommendations.withColumn(\"rec_exp\", explode(\"recommendations\"))\n",
    "nrecommendations.show()"
   ]
  },
  {
   "cell_type": "code",
   "execution_count": 32,
   "metadata": {},
   "outputs": [
    {
     "name": "stdout",
     "output_type": "stream",
     "text": [
      "+------+-------+---------+\n",
      "|userId|movieId|   rating|\n",
      "+------+-------+---------+\n",
      "|     1|   3379|5.7612557|\n",
      "|     1|  33649|5.6169276|\n",
      "|     1|   5490| 5.517828|\n",
      "|     1| 171495| 5.425299|\n",
      "|     1|   3951|5.4084063|\n",
      "|     1|   5328|5.4084063|\n",
      "|     1|   5416|5.4084063|\n",
      "|     1|  78836|5.3639174|\n",
      "|     1|   8477|  5.34965|\n",
      "|     1|   5915| 5.335429|\n",
      "+------+-------+---------+\n",
      "\n"
     ]
    }
   ],
   "source": [
    "nrecommendations = nrecommendations\\\n",
    "    .withColumn(\"rec_exp\", explode(\"recommendations\"))\\\n",
    "    .select('userId', col(\"rec_exp.movieId\"), col(\"rec_exp.rating\"))\n",
    "\n",
    "nrecommendations.limit(10).show()"
   ]
  },
  {
   "cell_type": "code",
   "execution_count": 33,
   "metadata": {},
   "outputs": [
    {
     "name": "stdout",
     "output_type": "stream",
     "text": [
      "+-------+------+---------+--------------------+--------------------+\n",
      "|movieId|userId|   rating|               title|              genres|\n",
      "+-------+------+---------+--------------------+--------------------+\n",
      "|  67618|   100| 5.099819|Strictly Sexual (...|Comedy|Drama|Romance|\n",
      "|  33649|   100| 5.093817|  Saving Face (2004)|Comedy|Drama|Romance|\n",
      "|   3379|   100| 5.056979| On the Beach (1959)|               Drama|\n",
      "|  42730|   100| 4.949055|   Glory Road (2006)|               Drama|\n",
      "|  74282|   100|4.9183598|Anne of Green Gab...|Children|Drama|Ro...|\n",
      "|  86237|   100|4.9070096|  Connections (1978)|         Documentary|\n",
      "|   7071|   100|4.9070096|Woman Under the I...|               Drama|\n",
      "|   4708|   100|4.9070096|   Marat/Sade (1966)|       Drama|Musical|\n",
      "| 179135|   100|4.9070096|Blue Planet II (2...|         Documentary|\n",
      "|  26073|   100|4.9070096|Human Condition I...|           Drama|War|\n",
      "|  74226|   100|4.9070096|Dream of Light (a...|   Documentary|Drama|\n",
      "|  84273|   100|4.9070096|Zeitgeist: Moving...|         Documentary|\n",
      "| 117531|   100|4.9070096|    Watermark (2014)|         Documentary|\n",
      "| 138966|   100|4.9070096|Nasu: Summer in A...|           Animation|\n",
      "| 184245|   100|4.9070096|De platte jungle ...|         Documentary|\n",
      "|  67618|   100| 5.099819|Strictly Sexual (...|Comedy|Drama|Romance|\n",
      "|  33649|   100| 5.093817|  Saving Face (2004)|Comedy|Drama|Romance|\n",
      "|   3379|   100| 5.056979| On the Beach (1959)|               Drama|\n",
      "|  42730|   100| 4.949055|   Glory Road (2006)|               Drama|\n",
      "|  74282|   100|4.9183598|Anne of Green Gab...|Children|Drama|Ro...|\n",
      "+-------+------+---------+--------------------+--------------------+\n",
      "only showing top 20 rows\n",
      "\n"
     ]
    }
   ],
   "source": [
    "nrecommendations.join(movies, on='movieId').filter('userId = 100').show()"
   ]
  },
  {
   "cell_type": "code",
   "execution_count": 34,
   "metadata": {},
   "outputs": [
    {
     "name": "stdout",
     "output_type": "stream",
     "text": [
      "+-------+------+------+--------------------+--------------------+\n",
      "|movieId|userId|rating|               title|              genres|\n",
      "+-------+------+------+--------------------+--------------------+\n",
      "|   1101|   100|   5.0|      Top Gun (1986)|      Action|Romance|\n",
      "|   1958|   100|   5.0|Terms of Endearme...|        Comedy|Drama|\n",
      "|   2423|   100|   5.0|Christmas Vacatio...|              Comedy|\n",
      "|   4041|   100|   5.0|Officer and a Gen...|       Drama|Romance|\n",
      "|   5620|   100|   5.0|Sweet Home Alabam...|      Comedy|Romance|\n",
      "|    368|   100|   4.5|     Maverick (1994)|Adventure|Comedy|...|\n",
      "|    934|   100|   4.5|Father of the Bri...|              Comedy|\n",
      "|    539|   100|   4.5|Sleepless in Seat...|Comedy|Drama|Romance|\n",
      "|     16|   100|   4.5|       Casino (1995)|         Crime|Drama|\n",
      "|    553|   100|   4.5|    Tombstone (1993)|Action|Drama|Western|\n",
      "+-------+------+------+--------------------+--------------------+\n",
      "\n"
     ]
    }
   ],
   "source": [
    "ratings.join(movies, on='movieId').filter('userId = 100').sort('rating', ascending=False).limit(10).show()"
   ]
  }
 ],
 "metadata": {
  "kernelspec": {
   "display_name": "Python 3",
   "language": "python",
   "name": "python3"
  },
  "language_info": {
   "codemirror_mode": {
    "name": "ipython",
    "version": 3
   },
   "file_extension": ".py",
   "mimetype": "text/x-python",
   "name": "python",
   "nbconvert_exporter": "python",
   "pygments_lexer": "ipython3",
   "version": "3.7.6"
  }
 },
 "nbformat": 4,
 "nbformat_minor": 4
}
